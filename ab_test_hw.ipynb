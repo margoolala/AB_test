{
 "cells": [
  {
   "cell_type": "markdown",
   "metadata": {},
   "source": [
    "# Анализ результатов А/В теста"
   ]
  },
  {
   "cell_type": "markdown",
   "metadata": {},
   "source": [
    "**Легенда:** туристическая фирма разработала 2 варианта посадочной страницы, необходимо выяснить какая из страниц приносит больше прибыли."
   ]
  },
  {
   "cell_type": "markdown",
   "metadata": {},
   "source": [
    "Формализованные задачи:\n",
    "- обработка данных и анализ датасета\n",
    "- расчет кумулятивных метрик\n",
    "- проверка гипотез"
   ]
  },
  {
   "cell_type": "markdown",
   "metadata": {},
   "source": [
    "### Обработка и анализ датасета"
   ]
  },
  {
   "cell_type": "code",
   "execution_count": 1,
   "metadata": {},
   "outputs": [],
   "source": [
    "import pandas as pd\n",
    "import numpy as np\n",
    "import matplotlib.pyplot as plt\n",
    "import math as mth\n",
    "from scipy import stats as st"
   ]
  },
  {
   "cell_type": "code",
   "execution_count": 2,
   "metadata": {},
   "outputs": [
    {
     "data": {
      "text/html": [
       "<div>\n",
       "<style scoped>\n",
       "    .dataframe tbody tr th:only-of-type {\n",
       "        vertical-align: middle;\n",
       "    }\n",
       "\n",
       "    .dataframe tbody tr th {\n",
       "        vertical-align: top;\n",
       "    }\n",
       "\n",
       "    .dataframe thead th {\n",
       "        text-align: right;\n",
       "    }\n",
       "</style>\n",
       "<table border=\"1\" class=\"dataframe\">\n",
       "  <thead>\n",
       "    <tr style=\"text-align: right;\">\n",
       "      <th></th>\n",
       "      <th>user_id</th>\n",
       "      <th>date</th>\n",
       "      <th>group</th>\n",
       "      <th>purchase</th>\n",
       "      <th>price</th>\n",
       "    </tr>\n",
       "  </thead>\n",
       "  <tbody>\n",
       "    <tr>\n",
       "      <th>0</th>\n",
       "      <td>851104</td>\n",
       "      <td>2021-01-21</td>\n",
       "      <td>A</td>\n",
       "      <td>0</td>\n",
       "      <td>0</td>\n",
       "    </tr>\n",
       "    <tr>\n",
       "      <th>1</th>\n",
       "      <td>804228</td>\n",
       "      <td>2021-01-12</td>\n",
       "      <td>A</td>\n",
       "      <td>0</td>\n",
       "      <td>0</td>\n",
       "    </tr>\n",
       "    <tr>\n",
       "      <th>2</th>\n",
       "      <td>661590</td>\n",
       "      <td>2021-01-11</td>\n",
       "      <td>B</td>\n",
       "      <td>0</td>\n",
       "      <td>0</td>\n",
       "    </tr>\n",
       "    <tr>\n",
       "      <th>3</th>\n",
       "      <td>853541</td>\n",
       "      <td>2021-01-08</td>\n",
       "      <td>B</td>\n",
       "      <td>0</td>\n",
       "      <td>0</td>\n",
       "    </tr>\n",
       "    <tr>\n",
       "      <th>4</th>\n",
       "      <td>864975</td>\n",
       "      <td>2021-01-21</td>\n",
       "      <td>A</td>\n",
       "      <td>1</td>\n",
       "      <td>150000</td>\n",
       "    </tr>\n",
       "  </tbody>\n",
       "</table>\n",
       "</div>"
      ],
      "text/plain": [
       "   user_id        date group  purchase   price\n",
       "0   851104  2021-01-21     A         0       0\n",
       "1   804228  2021-01-12     A         0       0\n",
       "2   661590  2021-01-11     B         0       0\n",
       "3   853541  2021-01-08     B         0       0\n",
       "4   864975  2021-01-21     A         1  150000"
      ]
     },
     "execution_count": 2,
     "metadata": {},
     "output_type": "execute_result"
    }
   ],
   "source": [
    "df = pd.read_csv('ab_data.csv')\n",
    "df.drop('Unnamed: 0',axis=1,inplace=True)\n",
    "df.head()"
   ]
  },
  {
   "cell_type": "code",
   "execution_count": 3,
   "metadata": {},
   "outputs": [
    {
     "name": "stdout",
     "output_type": "stream",
     "text": [
      "<class 'pandas.core.frame.DataFrame'>\n",
      "RangeIndex: 294478 entries, 0 to 294477\n",
      "Data columns (total 5 columns):\n",
      " #   Column    Non-Null Count   Dtype \n",
      "---  ------    --------------   ----- \n",
      " 0   user_id   294478 non-null  int64 \n",
      " 1   date      294478 non-null  object\n",
      " 2   group     294478 non-null  object\n",
      " 3   purchase  294478 non-null  int64 \n",
      " 4   price     294478 non-null  int64 \n",
      "dtypes: int64(3), object(2)\n",
      "memory usage: 11.2+ MB\n"
     ]
    }
   ],
   "source": [
    "# Выведем информацию о датасете\n",
    "df.info()"
   ]
  },
  {
   "cell_type": "code",
   "execution_count": 4,
   "metadata": {},
   "outputs": [],
   "source": [
    "df['date'] = pd.to_datetime(df['date'])"
   ]
  },
  {
   "cell_type": "code",
   "execution_count": 5,
   "metadata": {},
   "outputs": [
    {
     "name": "stderr",
     "output_type": "stream",
     "text": [
      "C:\\Users\\Admin\\AppData\\Local\\Temp\\ipykernel_16328\\2843766816.py:2: FutureWarning: Treating datetime data as categorical rather than numeric in `.describe` is deprecated and will be removed in a future version of pandas. Specify `datetime_is_numeric=True` to silence this warning and adopt the future behavior now.\n",
      "  df['date'].describe()\n"
     ]
    },
    {
     "data": {
      "text/plain": [
       "count                  294478\n",
       "unique                     23\n",
       "top       2021-01-08 00:00:00\n",
       "freq                    13564\n",
       "first     2021-01-02 00:00:00\n",
       "last      2021-01-24 00:00:00\n",
       "Name: date, dtype: object"
      ]
     },
     "execution_count": 5,
     "metadata": {},
     "output_type": "execute_result"
    }
   ],
   "source": [
    "# Узнаем сроки проведения теста\n",
    "df['date'].describe()"
   ]
  },
  {
   "cell_type": "markdown",
   "metadata": {},
   "source": [
    "Тест проводился со 2 по 24 января 2021 г"
   ]
  },
  {
   "cell_type": "code",
   "execution_count": 6,
   "metadata": {},
   "outputs": [
    {
     "data": {
      "text/plain": [
       "99.94975420299302"
      ]
     },
     "execution_count": 6,
     "metadata": {},
     "output_type": "execute_result"
    }
   ],
   "source": [
    "# Проверим корректность распределения трафика по группам\n",
    "a_count = len(df[df['group'] == 'A'])\n",
    "b_count = len(df[df['group'] == 'B'])\n",
    "relation = (a_count/b_count)*100\n",
    "relation"
   ]
  },
  {
   "cell_type": "markdown",
   "metadata": {},
   "source": [
    "Разница 0.05%. Распределение сработало корректно. Продолжаем тест, так как разница не превышает 1%."
   ]
  },
  {
   "cell_type": "code",
   "execution_count": 7,
   "metadata": {},
   "outputs": [
    {
     "name": "stdout",
     "output_type": "stream",
     "text": [
      "1895 пользователей содержатся в обеих группах одновременно.\n"
     ]
    }
   ],
   "source": [
    "# Проверим пересечение групп \n",
    "# Найдем пользователей попавших в обе группы\n",
    "group_a = set(df[df['group'] == 'A']['user_id'].values)\n",
    "group_b = set(df[df['group'] == 'B']['user_id'].values)\n",
    "list_id = list(group_a & group_b)\n",
    "print(f'{len(list_id)} пользователей содержатся в обеих группах одновременно.')"
   ]
  },
  {
   "cell_type": "markdown",
   "metadata": {},
   "source": [
    "Так как мы не можем определить какая из версий сайта повлияла на принятие ими решения, исключим этих пользователей."
   ]
  },
  {
   "cell_type": "code",
   "execution_count": 8,
   "metadata": {},
   "outputs": [
    {
     "name": "stdout",
     "output_type": "stream",
     "text": [
      "145307\n",
      "145381\n",
      "0.9994909926331501\n"
     ]
    }
   ],
   "source": [
    "# Оставим только пользователей, которые не входят в список list_id\n",
    "df = df[~df['user_id'].isin(list_id)]\n",
    "print(len(df[df['group'] == 'A']))\n",
    "print(len(df[df['group'] == 'B']))\n",
    "# Проверим как изменилось соотношение пользователей в группах после очистки\n",
    "print(len(df[df['group'] == 'A']) / len(df[df['group'] == 'B']))"
   ]
  },
  {
   "cell_type": "markdown",
   "metadata": {},
   "source": [
    "Группы по-прежнему отличаются не более чем на 1 процент. Можем продолжать исследование."
   ]
  },
  {
   "cell_type": "code",
   "execution_count": 9,
   "metadata": {},
   "outputs": [
    {
     "data": {
      "text/html": [
       "<div>\n",
       "<style scoped>\n",
       "    .dataframe tbody tr th:only-of-type {\n",
       "        vertical-align: middle;\n",
       "    }\n",
       "\n",
       "    .dataframe tbody tr th {\n",
       "        vertical-align: top;\n",
       "    }\n",
       "\n",
       "    .dataframe thead th {\n",
       "        text-align: right;\n",
       "    }\n",
       "</style>\n",
       "<table border=\"1\" class=\"dataframe\">\n",
       "  <thead>\n",
       "    <tr style=\"text-align: right;\">\n",
       "      <th></th>\n",
       "      <th>group</th>\n",
       "      <th>user_id</th>\n",
       "      <th>purchase</th>\n",
       "      <th>price</th>\n",
       "      <th>conversion</th>\n",
       "      <th>avg_check</th>\n",
       "    </tr>\n",
       "  </thead>\n",
       "  <tbody>\n",
       "    <tr>\n",
       "      <th>0</th>\n",
       "      <td>A</td>\n",
       "      <td>145307</td>\n",
       "      <td>17487</td>\n",
       "      <td>1417780000</td>\n",
       "      <td>0.120345</td>\n",
       "      <td>81076.228055</td>\n",
       "    </tr>\n",
       "    <tr>\n",
       "      <th>1</th>\n",
       "      <td>B</td>\n",
       "      <td>145381</td>\n",
       "      <td>17290</td>\n",
       "      <td>1533010000</td>\n",
       "      <td>0.118929</td>\n",
       "      <td>88664.545980</td>\n",
       "    </tr>\n",
       "  </tbody>\n",
       "</table>\n",
       "</div>"
      ],
      "text/plain": [
       "  group  user_id  purchase       price  conversion     avg_check\n",
       "0     A   145307     17487  1417780000    0.120345  81076.228055\n",
       "1     B   145381     17290  1533010000    0.118929  88664.545980"
      ]
     },
     "execution_count": 9,
     "metadata": {},
     "output_type": "execute_result"
    }
   ],
   "source": [
    "# Сгруппируем таблицу по группе и посчитаем показатели конверсии и среднего чека по каждой группе \n",
    "df_pivot = df.groupby('group').agg({'user_id':'count','purchase':'sum','price':'sum'}).reset_index()\n",
    "df_pivot['conversion'] = df_pivot['purchase'] / df_pivot['user_id'] \n",
    "df_pivot['avg_check'] = df_pivot['price'] / df_pivot['purchase']\n",
    "df_pivot"
   ]
  },
  {
   "cell_type": "markdown",
   "metadata": {},
   "source": [
    "Несмотря на то что в группе B было больше посетителей, (относительная) конверсия в группе B меньше на 1.16%. За счёт меньшей конверсии в группе B было меньше покупок, однако выручка группы B больше выручки группы A на 115230000 единиц, или 7.5%. Большая выручка в группе B складывается за счёт того, что средний чек группы B выше среднего чека группы A."
   ]
  },
  {
   "cell_type": "code",
   "execution_count": 10,
   "metadata": {},
   "outputs": [
    {
     "data": {
      "image/png": "[encoded data removed]",
      "text/plain": [
       "<Figure size 720x504 with 1 Axes>"
      ]
     },
     "metadata": {
      "needs_background": "light"
     },
     "output_type": "display_data"
    }
   ],
   "source": [
    "# Визуализируем выручку\n",
    "plt.figure(figsize=(10,7))\n",
    "plt.hist(x=df[df['group']=='A']['price'], label='a')\n",
    "plt.hist(x=df[df['group']=='B']['price'], label='b',alpha= 0.7)\n",
    "plt.title('гистограмма выручки')\n",
    "plt.legend()\n",
    "plt.grid(True)\n",
    "plt.show()"
   ]
  },
  {
   "cell_type": "markdown",
   "metadata": {},
   "source": [
    "### Анализ куммулятивной таблицы"
   ]
  },
  {
   "cell_type": "markdown",
   "metadata": {},
   "source": [
    "Напишем функцию, которая для каждой уникальной даты в столбце date отфильтрует строки таблицы, где значения даты меньше или равны этой уникальной дате, и посчитает количество пользователей, количество заказов, выручку ."
   ]
  },
  {
   "cell_type": "code",
   "execution_count": 11,
   "metadata": {},
   "outputs": [],
   "source": [
    "# Сгруппируем таблицу по группе и посчитаем показатели конверсии и среднего чека по каждой группе \n",
    "df_pivot_date = df.groupby(['date','group']).agg({'user_id':'count','purchase':'sum','price':'sum'}).reset_index()\n",
    "df_pivot_date['conversion'] = df_pivot_date['purchase'] / df_pivot_date['user_id'] \n",
    "df_pivot_date['avg_check'] = df_pivot_date['price'] / df_pivot_date['purchase']"
   ]
  },
  {
   "cell_type": "code",
   "execution_count": 12,
   "metadata": {},
   "outputs": [],
   "source": [
    "def cummulative_table(data): # В переменную data будем передавать название переменной датафейма\n",
    "    df_cumm = [] # Создаём пустой список\n",
    "    for i in data['date'].values: # Запускаем цикл по каждому отдельному значению даты\n",
    "        out = data[data['date'] <= i].groupby('group').agg({'date':'max', 'user_id':'sum', 'purchase':'sum','price':'sum'})\n",
    "        df_cumm.append(out) # Полученный срез добавляем в созданный ранее список\n",
    "    return pd.concat(df_cumm).reset_index() # Объединяем списки и возвращаем результат\n",
    "df_a = df_pivot_date[df_pivot_date['group'] == 'A']\n",
    "df_b = df_pivot_date[df_pivot_date['group'] == 'B']\n",
    "cumm_a = cummulative_table(df_a)\n",
    "cumm_b = cummulative_table(df_b)\n",
    "# Рассчитаем куммулятивные показатели конверсии и среднего чека по дням\n",
    "cumm_a['conversion'] = cumm_a['purchase'] / cumm_a['user_id'] \n",
    "cumm_a['avg_check'] = cumm_a['price'] / cumm_a['purchase']\n",
    "cumm_b['conversion'] = cumm_b['purchase'] / cumm_b['user_id'] \n",
    "cumm_b['avg_check'] = cumm_b['price'] / cumm_b['purchase']\n"
   ]
  },
  {
   "cell_type": "code",
   "execution_count": 13,
   "metadata": {},
   "outputs": [
    {
     "data": {
      "image/png": "[encoded data removed]",
      "text/plain": [
       "<Figure size 504x360 with 1 Axes>"
      ]
     },
     "metadata": {
      "needs_background": "light"
     },
     "output_type": "display_data"
    }
   ],
   "source": [
    "# Построим график конверсии\n",
    "plt.figure(figsize=(7,5))\n",
    "plt.plot(cumm_a['date'], cumm_a['conversion'], label='Group A')\n",
    "plt.plot(cumm_b['date'], cumm_b['conversion'], label='Group B')\n",
    "plt.title('График кумулятивной конверсии')\n",
    "plt.xticks(rotation = 45)\n",
    "plt.legend()\n",
    "plt.grid(True)\n",
    "plt.show()"
   ]
  },
  {
   "cell_type": "markdown",
   "metadata": {},
   "source": [
    "Изначально конверсия группы B была ниже конверсии группы А, однако она показывала стабильный рост, и примерно 10 января конверсия группы B стала выше конверсии группы А. После чего конверсия группы B зафиксировалась примерно на этом уровне (с колебаниями). В то время как конверсия группы А начала постепенно расти. В результате конверсия группы А стабильно выше группы B. "
   ]
  },
  {
   "cell_type": "code",
   "execution_count": 14,
   "metadata": {},
   "outputs": [
    {
     "data": {
      "image/png": "[encoded data removed]",
      "text/plain": [
       "<Figure size 504x360 with 1 Axes>"
      ]
     },
     "metadata": {
      "needs_background": "light"
     },
     "output_type": "display_data"
    }
   ],
   "source": [
    "# Построим график изменения срднего чека\n",
    "plt.figure(figsize=(7,5))\n",
    "plt.plot(cumm_a['date'], cumm_a['avg_check'], label='Group A')\n",
    "plt.plot(cumm_b['date'], cumm_b['avg_check'], label='Group B')\n",
    "plt.title('График кумулятивного среднего чека')\n",
    "plt.xticks(rotation = 45)\n",
    "plt.legend()\n",
    "plt.grid(True)\n",
    "plt.show()"
   ]
  },
  {
   "cell_type": "markdown",
   "metadata": {},
   "source": [
    "Средний чек группы В сразу показал рост, средний чек группы А изначально ниже чем группы В. Примерно 10 января у группы А был скачок вниз, далее так и зафиксировался примерно на этом уровне."
   ]
  },
  {
   "cell_type": "markdown",
   "metadata": {},
   "source": [
    "### Статистическая проверка гипотез:\n",
    "-  равенство конверсий;\n",
    "-  равенство выручки;\n",
    "-  равенство средних чеков по дням."
   ]
  },
  {
   "cell_type": "markdown",
   "metadata": {},
   "source": [
    "**Проверяем распределение показателей конверсии в группах**"
   ]
  },
  {
   "cell_type": "markdown",
   "metadata": {},
   "source": [
    "Гипотезы:\n",
    "- Н0: Конверсии обеих групп равны\n",
    "- Н1: Конверсии обеих групп не равны"
   ]
  },
  {
   "cell_type": "code",
   "execution_count": 15,
   "metadata": {},
   "outputs": [
    {
     "data": {
      "text/plain": [
       "<AxesSubplot:>"
      ]
     },
     "execution_count": 15,
     "metadata": {},
     "output_type": "execute_result"
    },
    {
     "data": {
      "image/png": "[encoded data removed]",
      "text/plain": [
       "<Figure size 432x288 with 1 Axes>"
      ]
     },
     "metadata": {
      "needs_background": "light"
     },
     "output_type": "display_data"
    }
   ],
   "source": [
    "# Построим гистограмму конверсий в группах\n",
    "cumm_a['conversion'].hist()\n",
    "cumm_b['conversion'].hist()"
   ]
  },
  {
   "cell_type": "markdown",
   "metadata": {},
   "source": [
    "Распределение похоже на нормальное , применим Z-test."
   ]
  },
  {
   "cell_type": "code",
   "execution_count": 16,
   "metadata": {},
   "outputs": [
    {
     "name": "stdout",
     "output_type": "stream",
     "text": [
      "P-value равен 0.23940749849829834\n"
     ]
    }
   ],
   "source": [
    "# Задаём желаемый уровень статистической значимости: \n",
    "a = .05\n",
    "x_A = df['purchase'][df['group'] == 'A'].sum()\n",
    "x_B = df['purchase'][df['group'] == 'B'].sum()\n",
    "n_A = df['user_id'][df['group'] == 'A'].count()\n",
    "n_B = df['user_id'][df['group'] == 'B'].count()\n",
    "p_A = x_A / n_A\n",
    "p_B = x_B / n_B\n",
    "p = (x_A + x_B) / (n_A + n_B)\n",
    "# Посчитаем разницу в пропорциях: \n",
    "diff = p_A - p_B\n",
    "# Рассчитаем Z-статистику:\n",
    "z = diff / mth.sqrt(p * (1 - p) * (1/n_A + 1/n_B))\n",
    "# Зададим нормальное стандартное распределение со средним, равным нулю, и стандартным отклонением, равным единице:\n",
    "distr = st.norm(0, 1)\n",
    "# Рассчитаем p-value:\n",
    "z_p_val = (1 - distr.cdf(abs(z))) * 2\n",
    "print('P-value равен', z_p_val)"
   ]
  },
  {
   "cell_type": "markdown",
   "metadata": {},
   "source": [
    "P-value больше принятого уровня значимости, следовательно, статистически значимая разница между конверсиями отсутствует."
   ]
  },
  {
   "cell_type": "markdown",
   "metadata": {},
   "source": [
    "## Проверяем различия в стоимости заказов между группами"
   ]
  },
  {
   "cell_type": "markdown",
   "metadata": {},
   "source": [
    "Проверим гипотезы:\n",
    "- Н0: Стоимости заказов групп равны\n",
    "- Н1: Стоимости заказов групп не равны"
   ]
  },
  {
   "cell_type": "code",
   "execution_count": 17,
   "metadata": {},
   "outputs": [
    {
     "data": {
      "image/png": "[encoded data removed]",
      "text/plain": [
       "<Figure size 432x288 with 1 Axes>"
      ]
     },
     "metadata": {
      "needs_background": "light"
     },
     "output_type": "display_data"
    }
   ],
   "source": [
    "plt.hist(df[(df['group'] == 'A') & (df['purchase'] == 1)]['price'], label='A')\n",
    "plt.hist(df[(df['group'] == 'B') & (df['purchase'] == 1)]['price'], label='B', alpha=0.3)\n",
    "plt.legend() \n",
    "plt.show() "
   ]
  },
  {
   "cell_type": "markdown",
   "metadata": {},
   "source": [
    "Распределение не похоже на нормальное, для проверки гипотез будем использовать тест Манна-Уитни."
   ]
  },
  {
   "cell_type": "code",
   "execution_count": 18,
   "metadata": {},
   "outputs": [
    {
     "name": "stdout",
     "output_type": "stream",
     "text": [
      "p-value 1.412680672643368e-37\n",
      "Отвергаем нулевую гипотезы - стоимости заказов не равны\n"
     ]
    }
   ],
   "source": [
    "# Запишем стоимость заказов в отдельную переменную\n",
    "gr_a = df[(df['group'] == 'A') & (df['purchase'] == 1)]['price']\n",
    "gr_b = df[(df['group'] == 'B') & (df['purchase'] == 1)]['price']\n",
    "# Зададим уровень значимости и применим тест Манна-Уитни\n",
    "alpha = .05\n",
    "results = st.mannwhitneyu(gr_a, gr_b)\n",
    "print('p-value', results.pvalue/2)\n",
    "if (results.pvalue/2 < alpha):\n",
    "   print(\"Отвергаем нулевую гипотезы - стоимости заказов не равны\")\n",
    "else:\n",
    "   print(\"Не отвергаем нулевую гипотезу - стоимости заказов обеих групп равны\")"
   ]
  },
  {
   "cell_type": "markdown",
   "metadata": {},
   "source": [
    "## Проверяем различия в средних чеках между группами"
   ]
  },
  {
   "cell_type": "markdown",
   "metadata": {},
   "source": [
    "Проверим гипотезы:\n",
    "- Н0: Средние чеки обеих групп равны\n",
    "- Н1: Средние чеки обеих групп не равны"
   ]
  },
  {
   "cell_type": "code",
   "execution_count": 19,
   "metadata": {},
   "outputs": [
    {
     "data": {
      "text/plain": [
       "<AxesSubplot:>"
      ]
     },
     "execution_count": 19,
     "metadata": {},
     "output_type": "execute_result"
    },
    {
     "data": {
      "image/png": "[encoded data removed]",
      "text/plain": [
       "<Figure size 432x288 with 1 Axes>"
      ]
     },
     "metadata": {
      "needs_background": "light"
     },
     "output_type": "display_data"
    }
   ],
   "source": [
    "# Построим гистограмму среднего чека в группах\n",
    "df_pivot_date['avg_check'][df_pivot_date['group'] == 'A'].hist()\n",
    "df_pivot_date['avg_check'][df_pivot_date['group'] == 'B'].hist()"
   ]
  },
  {
   "cell_type": "markdown",
   "metadata": {},
   "source": [
    "Распределение похоже на нормальное, используем t-test."
   ]
  },
  {
   "cell_type": "code",
   "execution_count": 20,
   "metadata": {},
   "outputs": [
    {
     "name": "stdout",
     "output_type": "stream",
     "text": [
      "Ttest_indResult(statistic=-9.609061044565284, pvalue=2.2523589349617907e-12)\n",
      "Отвергаем нулевую гипотезы - стоимости заказов не равны\n"
     ]
    }
   ],
   "source": [
    "# Задаём желаемый уровень статистической значимости: \n",
    "alpha = .05\n",
    "# Запишем средние чеки в отдельную переменную\n",
    "avg_a = df_pivot_date['avg_check'][df_pivot_date['group'] == 'A']\n",
    "avg_b = df_pivot_date['avg_check'][df_pivot_date['group'] == 'B']\n",
    "# Запускаем метод, чтобы получить p-value, которое будем сравнивать с alpha\n",
    "results = st.ttest_ind(avg_a, avg_b, equal_var = True)\n",
    "print(results)\n",
    "if (results.pvalue < alpha):\n",
    "   print(\"Отвергаем нулевую гипотезы - стоимости заказов не равны\")\n",
    "else:\n",
    "   print(\"Не отвергаем нулевую гипотезу - стоимости заказов обеих групп равны\")"
   ]
  },
  {
   "cell_type": "markdown",
   "metadata": {},
   "source": [
    "## Вывод"
   ]
  },
  {
   "cell_type": "markdown",
   "metadata": {},
   "source": [
    "Несмотря на то что конверсия группы B ниже, статистической значимости в конверсии не достигнуто, соответственно, считать конверсии разными оснований нет. Зато средний чек группы B значительно выше среднего чека группы A. Статистическая значимость достигнута. Вариант сайта B приносит значимо больше выручки, чем вариант сайта A. Рекомендуем признать, что вариант B лучше, чем вариант A"
   ]
  }
 ],
 "metadata": {
  "kernelspec": {
   "display_name": "Python 3.9.10 64-bit",
   "language": "python",
   "name": "python3"
  },
  "language_info": {
   "codemirror_mode": {
    "name": "ipython",
    "version": 3
   },
   "file_extension": ".py",
   "mimetype": "text/x-python",
   "name": "python",
   "nbconvert_exporter": "python",
   "pygments_lexer": "ipython3",
   "version": "3.9.10"
  },
  "orig_nbformat": 4,
  "vscode": {
   "interpreter": {
    "hash": "0d591c6e422414675974e227c13f5382000c440fedd3c5006ef2be5d887f0ba7"
   }
  }
 },
 "nbformat": 4,
 "nbformat_minor": 2
}
